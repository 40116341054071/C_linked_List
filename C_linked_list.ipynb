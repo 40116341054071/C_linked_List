{
  "nbformat": 4,
  "nbformat_minor": 0,
  "metadata": {
    "colab": {
      "provenance": [],
      "mount_file_id": "19f746uP1w9B2ufSn14rmAwHJbjisz1Uh",
      "authorship_tag": "ABX9TyPEzSpbstq8Dnfu0dvHGHgC",
      "include_colab_link": true
    },
    "kernelspec": {
      "name": "python3",
      "display_name": "Python 3"
    },
    "language_info": {
      "name": "python"
    }
  },
  "cells": [
    {
      "cell_type": "markdown",
      "metadata": {
        "id": "view-in-github",
        "colab_type": "text"
      },
      "source": [
        "<a href=\"https://colab.research.google.com/github/40116341054071/C_linked_List/blob/main/C_linked_list.ipynb\" target=\"_parent\"><img src=\"https://colab.research.google.com/assets/colab-badge.svg\" alt=\"Open In Colab\"/></a>"
      ]
    },
    {
      "cell_type": "code",
      "execution_count": null,
      "metadata": {
        "id": "BGz5jAdg3tzZ"
      },
      "outputs": [],
      "source": [
        "class C_linked_list:\n",
        "    def __init__(self):\n",
        "         self.head=None\n",
        "    def display(self):\n",
        "         t=self.head\n",
        "         if t is None:\n",
        "             print(\"emty\")\n",
        "             return\n",
        "         while t.next !=self.head:\n",
        "             print(t.data, end='-->')\n",
        "         print(t.data)\n",
        "    def addfirst(self,data):\n",
        "         n=node(data)\n",
        "         if self.head==None:\n",
        "              self.head=n\n",
        "              n.next=n\n",
        "         return\n",
        "         n.next=self.head\n",
        "         t=self.head\n",
        "         while t.next !=self.head:\n",
        "             t=t.next\n",
        "         t.next=t\n",
        "         self.head=n\n",
        "    def addafter(self,m,data):\n",
        "         n=node(data)\n",
        "         t=self.head\n",
        "         while t.data != m:\n",
        "             t=t.next\n",
        "             if t==self.head:\n",
        "                  return -1\n",
        "         n.next=t.next\n",
        "         t.next=n\n",
        "    def delet(self,data):\n",
        "         if self.head==None:\n",
        "             print (\"empty\")\n",
        "             return\n",
        "         if self.head.next==self.head:\n",
        "             if self.head.data==data:\n",
        "                 self.head=None\n",
        "                 return n\n",
        "             return -1\n",
        "         t=self.head\n",
        "         while t.next.data != data:\n",
        "             t=t.next\n",
        "             if t==self.head:\n",
        "                 return -1\n",
        "             t.next=t.next.next"
      ]
    }
  ]
}